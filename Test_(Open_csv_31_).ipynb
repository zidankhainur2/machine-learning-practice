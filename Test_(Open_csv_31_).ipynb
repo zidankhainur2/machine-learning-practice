{
  "nbformat": 4,
  "nbformat_minor": 0,
  "metadata": {
    "colab": {
      "provenance": [],
      "authorship_tag": "ABX9TyMtMocnhi+ZV5P1X87ZUNss",
      "include_colab_link": true
    },
    "kernelspec": {
      "name": "python3",
      "display_name": "Python 3"
    },
    "language_info": {
      "name": "python"
    }
  },
  "cells": [
    {
      "cell_type": "markdown",
      "metadata": {
        "id": "view-in-github",
        "colab_type": "text"
      },
      "source": [
        "<a href=\"https://colab.research.google.com/github/zidankhainur2/machine-learning-practice/blob/main/Test_(Open_csv_31_).ipynb\" target=\"_parent\"><img src=\"https://colab.research.google.com/assets/colab-badge.svg\" alt=\"Open In Colab\"/></a>"
      ]
    },
    {
      "cell_type": "code",
      "execution_count": null,
      "metadata": {
        "colab": {
          "base_uri": "https://localhost:8080/"
        },
        "id": "CwVXQE2sm4oO",
        "outputId": "6fc49bd3-cb53-4c1f-8e42-81bdd6cbdf30"
      },
      "outputs": [
        {
          "output_type": "stream",
          "name": "stdout",
          "text": [
            "\u001b[31mERROR: Could not find a version that satisfies the requirement csv (from versions: none)\u001b[0m\u001b[31m\n",
            "\u001b[0m\u001b[31mERROR: No matching distribution found for csv\u001b[0m\u001b[31m\n",
            "\u001b[0m"
          ]
        }
      ],
      "source": [
        "pip install csv"
      ]
    },
    {
      "cell_type": "code",
      "source": [
        "import csv\n",
        "\n",
        "with open('/content/data-series.csv', newline='') as myFile:\n",
        "    reader = csv.reader(myFile)\n",
        "    for row in reader:\n",
        "        print(row)"
      ],
      "metadata": {
        "colab": {
          "base_uri": "https://localhost:8080/"
        },
        "id": "9zVM5XFbnTqj",
        "outputId": "a45f1757-51cd-4b52-f313-d380bba312bf"
      },
      "execution_count": null,
      "outputs": [
        {
          "output_type": "stream",
          "name": "stdout",
          "text": [
            "['Date', 'Time', 'Appliance', 'Energy_Consumption', 'Room', 'Status']\n",
            "['2022-01-01', '00:00', 'Refrigerator', '1.2', 'Kitchen', 'On']\n",
            "['2022-01-01', '01:00', 'Refrigerator', '1.2', 'Kitchen', 'On']\n",
            "['2022-01-01', '02:00', 'Refrigerator', '1.2', 'Kitchen', 'On']\n",
            "['2022-01-01', '03:00', 'Refrigerator', '1.2', 'Kitchen', 'On']\n",
            "['2022-01-01', '04:00', 'Refrigerator', '1.2', 'Kitchen', 'On']\n",
            "['2022-01-01', '05:00', 'Refrigerator', '1.2', 'Kitchen', 'On']\n",
            "['2022-01-01', '06:00', 'Refrigerator', '1.2', 'Kitchen', 'On']\n",
            "['2022-01-01', '07:00', 'Refrigerator', '1.2', 'Kitchen', 'On']\n",
            "['2022-01-01', '08:00', 'Refrigerator', '1.2', 'Kitchen', 'On']\n",
            "['2022-01-01', '09:00', 'Refrigerator', '1.2', 'Kitchen', 'On']\n",
            "['2022-01-01', '10:00', 'Refrigerator', '1.2', 'Kitchen', 'On']\n",
            "['2022-01-01', '11:00', 'Refrigerator', '1.2', 'Kitchen', 'On']\n",
            "['2022-01-01', '12:00', 'Refrigerator', '1.2', 'Kitchen', 'On']\n",
            "['2022-01-01', '13:00', 'Refrigerator', '1.2', 'Kitchen', 'On']\n",
            "['2022-01-01', '14:00', 'Refrigerator', '1.2', 'Kitchen', 'On']\n",
            "['2022-01-01', '15:00', 'Refrigerator', '1.2', 'Kitchen', 'On']\n",
            "['2022-01-01', '16:00', 'Refrigerator', '1.2', 'Kitchen', 'On']\n",
            "['2022-01-01', '17:00', 'Refrigerator', '1.2', 'Kitchen', 'On']\n",
            "['2022-01-01', '18:00', 'Refrigerator', '1.2', 'Kitchen', 'On']\n",
            "['2022-01-01', '19:00', 'Refrigerator', '1.2', 'Kitchen', 'On']\n",
            "['2022-01-01', '20:00', 'Refrigerator', '1.2', 'Kitchen', 'On']\n",
            "['2022-01-01', '21:00', 'Refrigerator', '1.2', 'Kitchen', 'On']\n",
            "['2022-01-01', '22:00', 'Refrigerator', '1.2', 'Kitchen', 'On']\n",
            "['2022-01-01', '23:00', 'Refrigerator', '1.2', 'Kitchen', 'On']\n",
            "['2022-01-01', '08:00', 'TV', '0.8', 'Living Room', 'Off']\n",
            "['2022-01-01', '09:00', 'TV', '0.8', 'Living Room', 'On']\n",
            "['2022-01-01', '10:00', 'TV', '0.8', 'Living Room', 'On']\n",
            "['2022-01-01', '11:00', 'TV', '0.8', 'Living Room', 'On']\n",
            "['2022-01-01', '12:00', 'TV', '0.8', 'Living Room', 'Off']\n",
            "['2022-01-01', '11:00', 'EVCar', '99.9', 'Garage', 'On']\n",
            "['2022-01-01', '12:00', 'EVCar', '99.9', 'Garage', 'Off']\n",
            "[]\n",
            "[]\n",
            "[]\n",
            "[]\n",
            "[]\n"
          ]
        }
      ]
    }
  ]
}