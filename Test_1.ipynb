{
  "nbformat": 4,
  "nbformat_minor": 0,
  "metadata": {
    "colab": {
      "provenance": [],
      "authorship_tag": "ABX9TyOQTSK1Ux/MF+djlnj16DOP",
      "include_colab_link": true
    },
    "kernelspec": {
      "name": "python3",
      "display_name": "Python 3"
    },
    "language_info": {
      "name": "python"
    }
  },
  "cells": [
    {
      "cell_type": "markdown",
      "metadata": {
        "id": "view-in-github",
        "colab_type": "text"
      },
      "source": [
        "<a href=\"https://colab.research.google.com/github/zidankhainur2/machine-learning-practice/blob/main/Test_1.ipynb\" target=\"_parent\"><img src=\"https://colab.research.google.com/assets/colab-badge.svg\" alt=\"Open In Colab\"/></a>"
      ]
    },
    {
      "cell_type": "code",
      "execution_count": null,
      "metadata": {
        "colab": {
          "base_uri": "https://localhost:8080/"
        },
        "id": "rzNGPlPRhWwn",
        "outputId": "77bab1db-7677-4ac3-cb2e-7b32c827ac19"
      },
      "outputs": [
        {
          "output_type": "stream",
          "name": "stdout",
          "text": [
            "Requirement already satisfied: pillow in /usr/local/lib/python3.11/dist-packages (11.1.0)\n"
          ]
        }
      ],
      "source": [
        "pip install pillow"
      ]
    },
    {
      "cell_type": "code",
      "source": [
        "from PIL import Image\n",
        "import numpy as np   #Use numpy to convert images to arrays\n",
        "\n",
        "# Read image\n",
        "img = Image.open(\"/content/mobil.jpeg\") #Not a numpy array\n",
        "print(type(img))\n",
        "\n",
        "# Output Images\n",
        "img.show()\n",
        "\n",
        "# prints format of image\n",
        "print(img.format)\n",
        "\n",
        "# prints mode of image\n",
        "print(img.mode)\n",
        "\n",
        "#PIL is not by default numpy array but can convert PIL image to numpy array.\n",
        "img1 = np.asarray(img)\n",
        "print(type(img1))\n"
      ],
      "metadata": {
        "colab": {
          "base_uri": "https://localhost:8080/"
        },
        "id": "X9XGFEL0hcPa",
        "outputId": "3b27a2be-1bd1-4d4a-97dd-c5f5e7057e96"
      },
      "execution_count": null,
      "outputs": [
        {
          "output_type": "stream",
          "name": "stdout",
          "text": [
            "<class 'PIL.JpegImagePlugin.JpegImageFile'>\n",
            "JPEG\n",
            "RGB\n",
            "<class 'numpy.ndarray'>\n"
          ]
        }
      ]
    }
  ]
}