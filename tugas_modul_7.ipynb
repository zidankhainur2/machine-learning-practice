{
  "cells": [
    {
      "cell_type": "markdown",
      "metadata": {
        "id": "view-in-github",
        "colab_type": "text"
      },
      "source": [
        "<a href=\"https://colab.research.google.com/github/zidankhainur2/machine-learning-practice/blob/main/tugas_modul_7.ipynb\" target=\"_parent\"><img src=\"https://colab.research.google.com/assets/colab-badge.svg\" alt=\"Open In Colab\"/></a>"
      ]
    },
    {
      "cell_type": "code",
      "execution_count": null,
      "id": "afde978f-45a6-4a58-bcc8-f8a538b850d5",
      "metadata": {
        "id": "afde978f-45a6-4a58-bcc8-f8a538b850d5"
      },
      "outputs": [],
      "source": [
        "import random"
      ]
    },
    {
      "cell_type": "code",
      "execution_count": null,
      "id": "66b473bb-0103-4467-995d-3ac0d5a7a848",
      "metadata": {
        "id": "66b473bb-0103-4467-995d-3ac0d5a7a848"
      },
      "outputs": [],
      "source": [
        "# Definisi fungsi objektif\n",
        "def objective_function(x):\n",
        "    return -(x**2) + 10\n",
        "\n",
        "# Batasan nilai x\n",
        "x_min = 0\n",
        "x_max = 31\n",
        "\n",
        "# Inisialisasi parameter algoritma genetika\n",
        "population_size = 20\n",
        "num_generations = 100\n",
        "mutation_rate = 0.1\n",
        "crossover_rate = 0.7"
      ]
    },
    {
      "cell_type": "code",
      "execution_count": null,
      "id": "5f5b7642-5d64-4ab9-a027-61904ab60807",
      "metadata": {
        "id": "5f5b7642-5d64-4ab9-a027-61904ab60807"
      },
      "outputs": [],
      "source": [
        "# Membuat populasi awal secara acak\n",
        "def initialize_population(size):\n",
        "    return [random.randint(x_min, x_max) for _ in range(size)]\n",
        "\n",
        "# Menghitung fitness (nilai fungsi objektif) untuk setiap individu\n",
        "def calculate_fitness(population):\n",
        "    return [objective_function(x) for x in population]\n",
        "\n",
        "# Seleksi orang tua menggunakan metode roulette wheel\n",
        "def select_parents(population, fitness):\n",
        "    total_fitness = sum(fitness)\n",
        "    probabilities = [f / total_fitness for f in fitness]\n",
        "    selected_indices = random.choices(range(len(population)), probabilities, k=len(population))\n",
        "    return [population[i] for i in selected_indices]\n",
        "\n",
        "# Penyilangan (crossover) dua orang tua untuk menghasilkan keturunan\n",
        "def crossover(parent1, parent2):\n",
        "    if random.random() < crossover_rate:\n",
        "        crossover_point = random.randint(1, len(bin(x_max))-2)  # memilih titik crossover\n",
        "        mask = (1 << crossover_point) - 1\n",
        "        offspring1 = (parent1 & mask) | (parent2 & ~mask)\n",
        "        offspring2 = (parent2 & mask) | (parent1 & ~mask)\n",
        "        return offspring1, offspring2\n",
        "    else:\n",
        "        return parent1, parent2\n",
        "\n",
        "# Mutasi individu\n",
        "def mutate(individual):\n",
        "    if random.random() < mutation_rate:\n",
        "        mutation_point = random.randint(0, len(bin(x_max))-2)\n",
        "        individual ^= 1 << mutation_point\n",
        "    return individual"
      ]
    },
    {
      "cell_type": "code",
      "execution_count": null,
      "id": "cba4bc2f-d6ff-4247-9fac-78388b0bbc77",
      "metadata": {
        "id": "cba4bc2f-d6ff-4247-9fac-78388b0bbc77",
        "outputId": "24f0ae3f-7404-4d3d-eca7-bd8195ee06fe"
      },
      "outputs": [
        {
          "name": "stdout",
          "output_type": "stream",
          "text": [
            "Nilai x terbaik: 28\n",
            "Nilai maksimum fungsi: -774\n"
          ]
        }
      ],
      "source": [
        "# Algoritma genetika\n",
        "population = initialize_population(population_size)\n",
        "\n",
        "for generation in range(num_generations):\n",
        "    fitness = calculate_fitness(population)\n",
        "    parents = select_parents(population, fitness)\n",
        "    next_population = []\n",
        "\n",
        "    for i in range(0, population_size, 2):\n",
        "        parent1 = parents[i]\n",
        "        parent2 = parents[i+1]\n",
        "        offspring1, offspring2 = crossover(parent1, parent2)\n",
        "        next_population.append(mutate(offspring1))\n",
        "        next_population.append(mutate(offspring2))\n",
        "\n",
        "    population = next_population\n",
        "\n",
        "# Mencari individu terbaik dari populasi akhir\n",
        "fitness = calculate_fitness(population)\n",
        "best_individual = population[fitness.index(max(fitness))]\n",
        "best_fitness = max(fitness)\n",
        "\n",
        "print(f\"Nilai x terbaik: {best_individual}\")\n",
        "print(f\"Nilai maksimum fungsi: {best_fitness}\")\n"
      ]
    }
  ],
  "metadata": {
    "kernelspec": {
      "display_name": "Python 3 (ipykernel)",
      "language": "python",
      "name": "python3"
    },
    "language_info": {
      "codemirror_mode": {
        "name": "ipython",
        "version": 3
      },
      "file_extension": ".py",
      "mimetype": "text/x-python",
      "name": "python",
      "nbconvert_exporter": "python",
      "pygments_lexer": "ipython3",
      "version": "3.11.5"
    },
    "colab": {
      "provenance": [],
      "include_colab_link": true
    }
  },
  "nbformat": 4,
  "nbformat_minor": 5
}