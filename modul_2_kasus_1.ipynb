{
  "cells": [
    {
      "cell_type": "markdown",
      "metadata": {
        "id": "view-in-github",
        "colab_type": "text"
      },
      "source": [
        "<a href=\"https://colab.research.google.com/github/zidankhainur2/machine-learning-practice/blob/main/modul_2_kasus_1.ipynb\" target=\"_parent\"><img src=\"https://colab.research.google.com/assets/colab-badge.svg\" alt=\"Open In Colab\"/></a>"
      ]
    },
    {
      "cell_type": "code",
      "execution_count": null,
      "id": "6e641883-212c-47ee-bfe5-359dd81b2e4e",
      "metadata": {
        "id": "6e641883-212c-47ee-bfe5-359dd81b2e4e",
        "outputId": "5d8bf7e9-90db-4cb6-beaa-f9f5a7a195be"
      },
      "outputs": [
        {
          "name": "stdout",
          "output_type": "stream",
          "text": [
            "['Arad', 'Zerind', 'Oradea', 'Sibiu', 'Fagaras', 'Bucharest']\n"
          ]
        }
      ],
      "source": [
        "graph = {\n",
        "    'Arad': ['Zerind', 'Sibiu', 'Timisoara'],\n",
        "    'Zerind': ['Arad', 'Oradea'],\n",
        "    'Oradea': ['Zerind', 'Sibiu'],\n",
        "    'Sibiu': ['Arad', 'Oradea', 'Fagaras', 'Rimnicu Vilcea'],\n",
        "    'Timisoara': ['Arad', 'Lugoj'],\n",
        "    'Lugoj': ['Timisoara', 'Mehadia'],\n",
        "    'Mehadia': ['Lugoj', 'Drobeta'],\n",
        "    'Drobeta': ['Mehadia', 'Craiova'],\n",
        "    'Craiova': ['Drobeta', 'Rimnicu Vilcea', 'Pitesti'],\n",
        "    'Rimnicu Vilcea': ['Sibiu', 'Craiova', 'Pitesti'],\n",
        "    'Fagaras': ['Sibiu', 'Bucharest'],\n",
        "    'Pitesti': ['Rimnicu Vilcea', 'Craiova', 'Bucharest'],\n",
        "    'Bucharest': ['Fagaras', 'Pitesti', 'Giurgiu'],\n",
        "    'Giurgiu': ['Bucharest']\n",
        "}\n",
        "\n",
        "def dfs(graph, start, goal):\n",
        "    stack = [[start]]\n",
        "    visited = set()\n",
        "\n",
        "    while stack:\n",
        "        path = stack.pop()\n",
        "        node = path[-1]\n",
        "\n",
        "        if node == goal:\n",
        "            return path\n",
        "\n",
        "        if node not in visited:\n",
        "            visited.add(node)\n",
        "\n",
        "            for neighbor in reversed(graph[node]):\n",
        "                new_path = list(path)\n",
        "                new_path.append(neighbor)\n",
        "                stack.append(new_path)\n",
        "\n",
        "    return None\n",
        "\n",
        "path = dfs(graph, 'Arad', 'Bucharest')\n",
        "print(path)"
      ]
    }
  ],
  "metadata": {
    "kernelspec": {
      "display_name": "Python 3 (ipykernel)",
      "language": "python",
      "name": "python3"
    },
    "language_info": {
      "codemirror_mode": {
        "name": "ipython",
        "version": 3
      },
      "file_extension": ".py",
      "mimetype": "text/x-python",
      "name": "python",
      "nbconvert_exporter": "python",
      "pygments_lexer": "ipython3",
      "version": "3.12.2"
    },
    "colab": {
      "provenance": [],
      "include_colab_link": true
    }
  },
  "nbformat": 4,
  "nbformat_minor": 5
}