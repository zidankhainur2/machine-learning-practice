{
  "nbformat": 4,
  "nbformat_minor": 0,
  "metadata": {
    "colab": {
      "provenance": [],
      "authorship_tag": "ABX9TyOM9Puu36EiInm88xfUKClf",
      "include_colab_link": true
    },
    "kernelspec": {
      "name": "python3",
      "display_name": "Python 3"
    },
    "language_info": {
      "name": "python"
    }
  },
  "cells": [
    {
      "cell_type": "markdown",
      "metadata": {
        "id": "view-in-github",
        "colab_type": "text"
      },
      "source": [
        "<a href=\"https://colab.research.google.com/github/zidankhainur2/machine-learning-practice/blob/main/praktikum2_kasus2.ipynb\" target=\"_parent\"><img src=\"https://colab.research.google.com/assets/colab-badge.svg\" alt=\"Open In Colab\"/></a>"
      ]
    },
    {
      "cell_type": "code",
      "execution_count": null,
      "metadata": {
        "colab": {
          "base_uri": "https://localhost:8080/"
        },
        "id": "yAj_hGx6LRL8",
        "outputId": "b65e6a1f-2521-49f4-d92c-67ae60ad5647"
      },
      "outputs": [
        {
          "output_type": "stream",
          "name": "stdout",
          "text": [
            "Goal State:\n",
            "[2, 8, 3]\n",
            "[1, 6, 4]\n",
            "[7, 0, 5]\n",
            "Depth: 5\n"
          ]
        }
      ],
      "source": [
        "from collections import deque\n",
        "\n",
        "# Fungsi untuk menghitung kedalaman pohon\n",
        "def g(node):\n",
        "    return node[1]\n",
        "\n",
        "# Fungsi untuk menghitung jumlah angka yang salah posisi\n",
        "def h(node):\n",
        "    state = node[0]\n",
        "    goal = [[2, 8, 3], [1, 6, 4], [7, 0, 5]]\n",
        "    misplaced = 0\n",
        "    for i in range(3):\n",
        "        for j in range(3):\n",
        "            if state[i][j] != goal[i][j]:\n",
        "                misplaced += 1\n",
        "    return misplaced\n",
        "\n",
        "# Fungsi untuk menghitung nilai f(n)\n",
        "def f(node):\n",
        "    return g(node) + h(node)\n",
        "\n",
        "# Fungsi untuk memeriksa apakah state sudah mencapai goal\n",
        "def is_goal(state):\n",
        "    goal = [[2, 8, 3], [1, 6, 4], [7, 0, 5]]\n",
        "    return state == goal\n",
        "\n",
        "# Fungsi untuk mendapatkan list successor (tetangga) dari state\n",
        "def get_successors(node):\n",
        "    state = node[0]\n",
        "    depth = node[1]\n",
        "    successors = []\n",
        "    for i in range(3):\n",
        "        for j in range(3):\n",
        "            if state[i][j] == 0:\n",
        "                # Up\n",
        "                if i > 0:\n",
        "                    new_state = [row[:] for row in state]\n",
        "                    new_state[i][j], new_state[i - 1][j] = new_state[i - 1][j], new_state[i][j]\n",
        "                    successors.append((new_state, depth + 1))\n",
        "                # Down\n",
        "                if i < 2:\n",
        "                    new_state = [row[:] for row in state]\n",
        "                    new_state[i][j], new_state[i + 1][j] = new_state[i + 1][j], new_state[i][j]\n",
        "                    successors.append((new_state, depth + 1))\n",
        "                # Left\n",
        "                if j > 0:\n",
        "                    new_state = [row[:] for row in state]\n",
        "                    new_state[i][j], new_state[i][j - 1] = new_state[i][j - 1], new_state[i][j]\n",
        "                    successors.append((new_state, depth + 1))\n",
        "                # Right\n",
        "                if j < 2:\n",
        "                    new_state = [row[:] for row in state]\n",
        "                    new_state[i][j], new_state[i][j + 1] = new_state[i][j + 1], new_state[i][j]\n",
        "                    successors.append((new_state, depth + 1))\n",
        "    return successors\n",
        "\n",
        "# Algoritma Best First Search\n",
        "def best_first_search(initial_state):\n",
        "    open_list = deque([(initial_state, 0)])  # Priority Queue (Open List)\n",
        "    closed_list = set()\n",
        "\n",
        "    while open_list:\n",
        "        # Pilih node dengan nilai f(n) terendah\n",
        "        current_node = min(open_list, key=f)\n",
        "        open_list.remove(current_node)\n",
        "\n",
        "        # Jika state sudah mencapai goal\n",
        "        if is_goal(current_node[0]):\n",
        "            return current_node[0], current_node[1]\n",
        "\n",
        "        # Tambahkan state ke closed list\n",
        "        closed_list.add(tuple(map(tuple, current_node[0])))\n",
        "\n",
        "        # Generate successor dari state\n",
        "        successors = get_successors(current_node)\n",
        "\n",
        "        # Tambahkan successor ke open list jika belum ada di closed list\n",
        "        for successor in successors:\n",
        "            if tuple(map(tuple, successor[0])) not in closed_list:\n",
        "                open_list.append(successor)\n",
        "\n",
        "    # Jika tidak ada solusi\n",
        "    return None, None\n",
        "\n",
        "# Nilai awal\n",
        "initial_state = [[1, 2, 3], [8, 0, 4], [7, 6, 5]]\n",
        "\n",
        "# Jalankan Best First Search\n",
        "goal_state, depth = best_first_search(initial_state)\n",
        "\n",
        "# Print hasil\n",
        "if goal_state:\n",
        "    print(\"Goal State:\")\n",
        "    for row in goal_state:\n",
        "        print(row)\n",
        "    print(f\"Depth: {depth}\")\n",
        "else:\n",
        "    print(\"No solution found.\")\n"
      ]
    }
  ]
}