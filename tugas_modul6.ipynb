{
  "cells": [
    {
      "cell_type": "markdown",
      "metadata": {
        "id": "view-in-github",
        "colab_type": "text"
      },
      "source": [
        "<a href=\"https://colab.research.google.com/github/zidankhainur2/machine-learning-practice/blob/main/tugas_modul6.ipynb\" target=\"_parent\"><img src=\"https://colab.research.google.com/assets/colab-badge.svg\" alt=\"Open In Colab\"/></a>"
      ]
    },
    {
      "cell_type": "code",
      "execution_count": null,
      "id": "e3581bf6-498a-4b25-88b8-14f31069aed2",
      "metadata": {
        "colab": {
          "base_uri": "https://localhost:8080/"
        },
        "id": "e3581bf6-498a-4b25-88b8-14f31069aed2",
        "outputId": "71d1aa47-8edc-4eef-af2a-27e82cbe6a39"
      },
      "outputs": [
        {
          "output_type": "stream",
          "name": "stdout",
          "text": [
            "  Metric    Linear  Hyperbolic Tangent\n",
            "0    MSE  0.017058            0.283707\n",
            "1     R²  0.000000            0.000000\n"
          ]
        }
      ],
      "source": [
        "import pandas as pd\n",
        "import numpy as np\n",
        "from sklearn.model_selection import train_test_split\n",
        "from sklearn.linear_model import LinearRegression\n",
        "from sklearn.metrics import mean_squared_error, r2_score\n",
        "\n",
        "# Muat dataset\n",
        "dataset = pd.read_csv(\"employee.csv\")\n",
        "\n",
        "# Fungsi untuk mengklasifikasikan status karyawan\n",
        "def classify_employee_status(age, yos, salary):\n",
        "    if (age <= 30 or (30 < age <= 40)) and yos <= 5 and (salary <= 3500 or (3500 < salary <= 5000)):\n",
        "        return 'Contract Employee'\n",
        "    elif (30 < age <= 40 or age > 40) and yos > 5 and (3500 < salary <= 5000 or salary > 5000):\n",
        "        return 'Permanent Employee'\n",
        "    else:\n",
        "        return 'Unknown'\n",
        "\n",
        "# Tambahkan kolom 'Employee Status' ke dataset\n",
        "dataset['Employee Status'] = dataset.apply(lambda row: classify_employee_status(row['Age'], row['Years of Service'], row['Salary']), axis=1)\n",
        "\n",
        "# Preprocessing data\n",
        "X = dataset[['Age', 'Years of Service', 'Salary']].values\n",
        "y = dataset['Employee Status'].apply(lambda status: 1 if status == 'Permanent Employee' else 0).values\n",
        "\n",
        "# Split data\n",
        "X_train, X_test, y_train, y_test = train_test_split(X, y, test_size=0.2, random_state=42)\n",
        "\n",
        "# Fungsi aktivasi\n",
        "def linear(x):\n",
        "    return x\n",
        "\n",
        "def hyperbolic_tangent(x):\n",
        "    return np.tanh(x)\n",
        "\n",
        "# Model Linear\n",
        "model_linear = LinearRegression()\n",
        "model_linear.fit(linear(X_train), y_train)\n",
        "y_pred_linear = model_linear.predict(linear(X_test))\n",
        "\n",
        "# Model Hyperbolic Tangent\n",
        "model_tanh = LinearRegression()\n",
        "model_tanh.fit(hyperbolic_tangent(X_train), y_train)\n",
        "y_pred_tanh = model_tanh.predict(hyperbolic_tangent(X_test))\n",
        "\n",
        "# Evaluasi model\n",
        "mse_linear = mean_squared_error(y_test, y_pred_linear)\n",
        "r2_linear = r2_score(y_test, y_pred_linear)\n",
        "mse_tanh = mean_squared_error(y_test, y_pred_tanh)\n",
        "r2_tanh = r2_score(y_test, y_pred_tanh)\n",
        "\n",
        "# Tampilkan hasil dalam tabel\n",
        "results = pd.DataFrame({\n",
        "    'Metric': ['MSE', 'R²'],\n",
        "    'Linear': [mse_linear, r2_linear],\n",
        "    'Hyperbolic Tangent': [mse_tanh, r2_tanh]\n",
        "})\n",
        "print(results)\n"
      ]
    },
    {
      "cell_type": "code",
      "execution_count": null,
      "id": "b83cf264-0ea6-4c7e-93f7-4efdc4e73644",
      "metadata": {
        "colab": {
          "base_uri": "https://localhost:8080/"
        },
        "id": "b83cf264-0ea6-4c7e-93f7-4efdc4e73644",
        "outputId": "d90174a7-a603-4496-c6c0-ba7d36a90e83"
      },
      "outputs": [
        {
          "output_type": "stream",
          "name": "stdout",
          "text": [
            "   Epoch  MSE   R²\n",
            "0   2500  1.0  0.0\n",
            "1   3500  1.0  0.0\n",
            "2   4500  1.0  0.0\n"
          ]
        }
      ],
      "source": [
        "from sklearn.neural_network import MLPClassifier\n",
        "\n",
        "# Variasi epoch\n",
        "epochs = [2500, 3500, 4500]\n",
        "\n",
        "# Hasil pelatihan\n",
        "training_results = []\n",
        "\n",
        "for epoch in epochs:\n",
        "    model_epoch = MLPClassifier(max_iter=epoch, activation='tanh', random_state=42)\n",
        "    model_epoch.fit(X_train, y_train)\n",
        "    y_pred_epoch = model_epoch.predict(X_test)\n",
        "\n",
        "    mse_epoch = mean_squared_error(y_test, y_pred_epoch)\n",
        "    r2_epoch = r2_score(y_test, y_pred_epoch)\n",
        "\n",
        "    training_results.append([epoch, mse_epoch, r2_epoch])\n",
        "\n",
        "# Tampilkan hasil dalam tabel\n",
        "epoch_results = pd.DataFrame(training_results, columns=['Epoch', 'MSE', 'R²'])\n",
        "print(epoch_results)\n"
      ]
    }
  ],
  "metadata": {
    "kernelspec": {
      "display_name": "Python 3 (ipykernel)",
      "language": "python",
      "name": "python3"
    },
    "language_info": {
      "codemirror_mode": {
        "name": "ipython",
        "version": 3
      },
      "file_extension": ".py",
      "mimetype": "text/x-python",
      "name": "python",
      "nbconvert_exporter": "python",
      "pygments_lexer": "ipython3",
      "version": "3.11.5"
    },
    "colab": {
      "provenance": [],
      "include_colab_link": true
    }
  },
  "nbformat": 4,
  "nbformat_minor": 5
}