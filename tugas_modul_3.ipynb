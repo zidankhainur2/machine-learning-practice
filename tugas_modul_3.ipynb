{
  "cells": [
    {
      "cell_type": "markdown",
      "metadata": {
        "id": "view-in-github",
        "colab_type": "text"
      },
      "source": [
        "<a href=\"https://colab.research.google.com/github/zidankhainur2/machine-learning-practice/blob/main/tugas_modul_3.ipynb\" target=\"_parent\"><img src=\"https://colab.research.google.com/assets/colab-badge.svg\" alt=\"Open In Colab\"/></a>"
      ]
    },
    {
      "cell_type": "code",
      "execution_count": null,
      "id": "89243b54-7e10-48e5-a668-6fc43ea594a6",
      "metadata": {
        "id": "89243b54-7e10-48e5-a668-6fc43ea594a6"
      },
      "outputs": [],
      "source": [
        "#Naive Bayes On the Iris Dataset\n",
        "from csv import reader\n",
        "from random import seed\n",
        "from random import randrange\n",
        "from math import sqrt\n",
        "from math import exp\n",
        "from math import pi"
      ]
    },
    {
      "cell_type": "code",
      "execution_count": null,
      "id": "4d41fed5-2d28-426b-8dba-7643490f2ced",
      "metadata": {
        "id": "4d41fed5-2d28-426b-8dba-7643490f2ced"
      },
      "outputs": [],
      "source": [
        "def load_csv(filename):\n",
        "    dataset = list()\n",
        "    with open(filename, 'r') as file:\n",
        "        csv_reader = reader(file)\n",
        "        for row in csv_reader:\n",
        "            if not row:\n",
        "                continue\n",
        "            dataset.append(row)\n",
        "        return dataset"
      ]
    },
    {
      "cell_type": "code",
      "execution_count": null,
      "id": "bad13c3d-8a98-49b9-bbe5-c689b5068f6f",
      "metadata": {
        "id": "bad13c3d-8a98-49b9-bbe5-c689b5068f6f"
      },
      "outputs": [],
      "source": [
        "#convert string column to float\n",
        "def str_column_to_float(dataset, column):\n",
        "    for row in dataset:\n",
        "        row[column] = float(row[column].strip())"
      ]
    },
    {
      "cell_type": "code",
      "execution_count": null,
      "id": "727a009d-a5ad-453a-b7ea-f08b3bb6b248",
      "metadata": {
        "id": "727a009d-a5ad-453a-b7ea-f08b3bb6b248"
      },
      "outputs": [],
      "source": [
        "#convert string column to integer\n",
        "def str_column_to_int(dataset, column):\n",
        "    class_values = [row[column] for row in dataset]\n",
        "    unique = set(class_values)\n",
        "    lookup = dict()\n",
        "    for i, value in enumerate(unique):\n",
        "        lookup[value] = i\n",
        "    for row in dataset:\n",
        "        row[column] = lookup[row[column]]\n",
        "    return lookup"
      ]
    },
    {
      "cell_type": "code",
      "execution_count": null,
      "id": "ee18d673-cad6-4093-98dd-e5b3015ce9d0",
      "metadata": {
        "id": "ee18d673-cad6-4093-98dd-e5b3015ce9d0"
      },
      "outputs": [],
      "source": [
        "#split a dataset into k folds\n",
        "def cross_validation_split(dataset, n_folds):\n",
        "    dataset_split = list()\n",
        "    dataset_copy = list(dataset)\n",
        "    fold_size = int(len(dataset) / n_folds)\n",
        "    for _ in range(n_folds):\n",
        "        fold = list()\n",
        "        while len(fold) < fold_size:\n",
        "            index = randrange(len(dataset_copy))\n",
        "            fold.append(dataset_copy.pop(index))\n",
        "        dataset_split.append(fold)\n",
        "    return dataset_split"
      ]
    },
    {
      "cell_type": "code",
      "execution_count": null,
      "id": "0ae82f2a-81c5-42be-8c0a-c4c3f668238d",
      "metadata": {
        "id": "0ae82f2a-81c5-42be-8c0a-c4c3f668238d"
      },
      "outputs": [],
      "source": [
        "def accuracy_metric(actual, predicted):\n",
        "    correct = 0\n",
        "    for i in range(len(actual)):\n",
        "        if actual[i] == predicted[i]:\n",
        "            correct += 1\n",
        "    return correct / float(len(actual)) * 100.0"
      ]
    },
    {
      "cell_type": "code",
      "execution_count": null,
      "id": "f5345023-dd3c-4467-99fb-2e28a1ed247b",
      "metadata": {
        "id": "f5345023-dd3c-4467-99fb-2e28a1ed247b"
      },
      "outputs": [],
      "source": [
        "#Evaluate an alogorthm using a cross validation split\n",
        "def evaluate_algorithm(dataset, algorithm, n_folds, *args):\n",
        "    folds = cross_validation_split(dataset, n_folds)\n",
        "    scores = list()\n",
        "    for fold in folds:\n",
        "        train_set = list(folds)\n",
        "        train_set.remove(fold)\n",
        "        train_set = sum(train_set, [])\n",
        "        test_set = list()\n",
        "        for row in fold:\n",
        "            row_copy = list(row)\n",
        "            test_set.append(row_copy)\n",
        "            row_copy[-1] = None\n",
        "        predicted = algorithm(train_set, test_set, *args)\n",
        "        actual = [row[-1] for row in fold]\n",
        "        accuracy = accuracy_metric(actual, predicted)\n",
        "        scores.append(accuracy)\n",
        "    return scores"
      ]
    },
    {
      "cell_type": "code",
      "execution_count": null,
      "id": "a0fab1c4-76c6-48c1-9482-5414ff6704b4",
      "metadata": {
        "id": "a0fab1c4-76c6-48c1-9482-5414ff6704b4"
      },
      "outputs": [],
      "source": [
        "# split the dataset by class values, returns a dictionary\n",
        "def separate_by_class(dataset):\n",
        "    separated = dict()\n",
        "    for i in range(len(dataset)):\n",
        "        vector = dataset[i]\n",
        "        class_value = vector[-1]\n",
        "        if (class_value not in separated):\n",
        "            separated[class_value] = list()\n",
        "        separated[class_value].append(vector)\n",
        "    return separated"
      ]
    },
    {
      "cell_type": "code",
      "execution_count": null,
      "id": "d1c16821-7a3c-4ff8-962c-cc387deb428b",
      "metadata": {
        "id": "d1c16821-7a3c-4ff8-962c-cc387deb428b"
      },
      "outputs": [],
      "source": [
        "#Calculate the mean of a list of numbers\n",
        "def mean(numbers):\n",
        "    return sum(numbers)/float(len(numbers))"
      ]
    },
    {
      "cell_type": "code",
      "execution_count": null,
      "id": "ca4f8b71-588c-439b-b30f-433ac4aa35e7",
      "metadata": {
        "id": "ca4f8b71-588c-439b-b30f-433ac4aa35e7"
      },
      "outputs": [],
      "source": [
        "#calculate the standard deviation of a lis of numbers\n",
        "def stdev(numbers):\n",
        "    avg = mean(numbers)\n",
        "    variance = sum([(x-avg)**2 for x in numbers]) / float(len(numbers)-1)\n",
        "    return sqrt(variance)"
      ]
    },
    {
      "cell_type": "code",
      "execution_count": null,
      "id": "214edc6b-35ad-4ee1-bed3-d0afc7174f2b",
      "metadata": {
        "id": "214edc6b-35ad-4ee1-bed3-d0afc7174f2b"
      },
      "outputs": [],
      "source": [
        "#Calculate the mean, stdev,count for each column in a dataset\n",
        "def summarize_dataset(dataset):\n",
        "    summaries = [(mean(column), stdev(column), len(column)) for column in zip(*dataset)]\n",
        "    del(summaries[-1])\n",
        "    return summaries"
      ]
    },
    {
      "cell_type": "code",
      "execution_count": null,
      "id": "4d56a3ab-0a4e-4be1-96af-b61e7ae358d3",
      "metadata": {
        "id": "4d56a3ab-0a4e-4be1-96af-b61e7ae358d3"
      },
      "outputs": [],
      "source": [
        "# Split dataset by class then calculate statistics for each row\n",
        "def summarize_by_class(dataset):\n",
        "    separated = separate_by_class(dataset)\n",
        "    summaries = dict()\n",
        "    for class_value, rows in separated.items():\n",
        "        summaries[class_value] = summarize_dataset(rows)\n",
        "    return summaries"
      ]
    },
    {
      "cell_type": "code",
      "execution_count": null,
      "id": "033407ea-97e9-4112-ac2b-b6544dc73633",
      "metadata": {
        "id": "033407ea-97e9-4112-ac2b-b6544dc73633"
      },
      "outputs": [],
      "source": [
        "#Calculate Gaussian probability distribution function for x\n",
        "def calculate_probability(x, mean, stdev):\n",
        "    exponent = exp(-((x-mean)*2 / (2 * stdev*2 )))\n",
        "    return (1 / (sqrt(2 * pi) * stdev)) * exponent"
      ]
    },
    {
      "cell_type": "code",
      "execution_count": null,
      "id": "9ce30ab3-8bfc-4779-836b-f77f0ff742b5",
      "metadata": {
        "id": "9ce30ab3-8bfc-4779-836b-f77f0ff742b5"
      },
      "outputs": [],
      "source": [
        "#calculate the probabilities of predicting each class for a given row\n",
        "def calculate_class_probabilities(summaries, row):\n",
        "    total_rows = sum([summaries[label][0][2] for label in summaries])\n",
        "    probabilities = dict()\n",
        "    for class_value, class_summaries in summaries.items():\n",
        "        probabilities[class_value] = summaries[class_value][0][2]/float(total_rows)\n",
        "        for i in range(len(class_summaries)):\n",
        "            mean, stdev, _= class_summaries[i]\n",
        "            probabilities[class_value] *= calculate_probability(row[i], mean, stdev)\n",
        "    return probabilities"
      ]
    },
    {
      "cell_type": "code",
      "execution_count": null,
      "id": "cfe9d8e7-6d9f-4416-b666-041a7ab551ed",
      "metadata": {
        "id": "cfe9d8e7-6d9f-4416-b666-041a7ab551ed"
      },
      "outputs": [],
      "source": [
        "# predict the class for a given row\n",
        "def predict(summaries, row):\n",
        "    probabilities = calculate_class_probabilities(summaries, row)\n",
        "    best_label, best_prob = None, -1\n",
        "    for class_value, probability in probabilities.items():\n",
        "        if best_label is None or probability > best_prob:\n",
        "            best_prob = probability\n",
        "            best_label = class_value\n",
        "    return best_label"
      ]
    },
    {
      "cell_type": "code",
      "execution_count": null,
      "id": "459443ba-a590-42de-ac3f-137e13076092",
      "metadata": {
        "id": "459443ba-a590-42de-ac3f-137e13076092"
      },
      "outputs": [],
      "source": [
        "# Naive Bayes Algorithm\n",
        "def naive_bayes(train, test):\n",
        "    summarize = summarize_by_class(train)\n",
        "    predictions = list()\n",
        "    for row in test:\n",
        "        output = predict(summarize, row)\n",
        "        predictions.append(output)\n",
        "    return(predictions)"
      ]
    },
    {
      "cell_type": "code",
      "execution_count": null,
      "id": "e438817f-7a08-47cc-996a-c1d2f40fc9b0",
      "metadata": {
        "colab": {
          "base_uri": "https://localhost:8080/"
        },
        "id": "e438817f-7a08-47cc-996a-c1d2f40fc9b0",
        "outputId": "c3552908-fb0b-4139-ff34-707099f170d5"
      },
      "outputs": [
        {
          "data": {
            "text/plain": [
              "{'Iris-versicolor': 0, 'Iris-virginica': 1, 'Iris-setosa': 2}"
            ]
          },
          "execution_count": 17,
          "metadata": {},
          "output_type": "execute_result"
        }
      ],
      "source": [
        "# make a prediction with Bayes on Iris dataset\n",
        "filename = 'iris.csv'\n",
        "dataset = load_csv(filename)\n",
        "# skip the first row if it contains column headers\n",
        "if dataset and all(isinstance(val, str) for val in dataset[0]):\n",
        "    dataset = dataset[1:]\n",
        "for i in range(len(dataset[0])-1):\n",
        "    str_column_to_float(dataset, i)\n",
        "# convert class column to integer\n",
        "str_column_to_int(dataset, len(dataset[0])-1)"
      ]
    },
    {
      "cell_type": "code",
      "execution_count": null,
      "id": "8a0e9925-3aa7-41ae-9c60-bcb4b62b076d",
      "metadata": {
        "id": "8a0e9925-3aa7-41ae-9c60-bcb4b62b076d"
      },
      "outputs": [],
      "source": [
        "# fit model\n",
        "model = summarize_by_class(dataset)"
      ]
    },
    {
      "cell_type": "code",
      "execution_count": null,
      "id": "4aa65a9a-75b6-4677-81c3-6dc49069df1e",
      "metadata": {
        "id": "4aa65a9a-75b6-4677-81c3-6dc49069df1e"
      },
      "outputs": [],
      "source": [
        "#define a new record\n",
        "row = [5.7,2.9,4.2,1.3]"
      ]
    },
    {
      "cell_type": "code",
      "execution_count": null,
      "id": "5cb06c6e-d7d0-4af4-9385-a0c7199cc80e",
      "metadata": {
        "colab": {
          "background_save": true
        },
        "id": "5cb06c6e-d7d0-4af4-9385-a0c7199cc80e",
        "outputId": "2956e142-2304-4a20-ff09-2230e6e8e2c1"
      },
      "outputs": [
        {
          "name": "stdout",
          "output_type": "stream",
          "text": [
            "Data=[5.7, 2.9, 4.2, 1.3], Predicted: 1\n"
          ]
        }
      ],
      "source": [
        "#predict the label\n",
        "label = predict(model, row)\n",
        "print('Data=%s, Predicted: %s' % (row, label))"
      ]
    },
    {
      "cell_type": "code",
      "execution_count": null,
      "id": "efb31824-b8cd-4c99-9145-4b283072cddc",
      "metadata": {
        "id": "efb31824-b8cd-4c99-9145-4b283072cddc"
      },
      "outputs": [],
      "source": []
    }
  ],
  "metadata": {
    "colab": {
      "provenance": [],
      "include_colab_link": true
    },
    "kernelspec": {
      "display_name": "Python 3 (ipykernel)",
      "language": "python",
      "name": "python3"
    },
    "language_info": {
      "codemirror_mode": {
        "name": "ipython",
        "version": 3
      },
      "file_extension": ".py",
      "mimetype": "text/x-python",
      "name": "python",
      "nbconvert_exporter": "python",
      "pygments_lexer": "ipython3",
      "version": "3.11.5"
    }
  },
  "nbformat": 4,
  "nbformat_minor": 5
}