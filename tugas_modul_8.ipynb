{
  "cells": [
    {
      "cell_type": "markdown",
      "metadata": {
        "id": "view-in-github",
        "colab_type": "text"
      },
      "source": [
        "<a href=\"https://colab.research.google.com/github/zidankhainur2/machine-learning-practice/blob/main/tugas_modul_8.ipynb\" target=\"_parent\"><img src=\"https://colab.research.google.com/assets/colab-badge.svg\" alt=\"Open In Colab\"/></a>"
      ]
    },
    {
      "cell_type": "code",
      "execution_count": null,
      "id": "0cf3290c-c749-409e-99f2-d34b19f4491f",
      "metadata": {
        "colab": {
          "base_uri": "https://localhost:8080/"
        },
        "id": "0cf3290c-c749-409e-99f2-d34b19f4491f",
        "outputId": "cd9dc0cb-9d35-468a-c438-c5d8119b208c"
      },
      "outputs": [
        {
          "output_type": "stream",
          "name": "stdout",
          "text": [
            "[['gives milk', 'x'], ['eats meat', 'x'], ['tawny color', 'x'], ['is mammal', 'x'], ['is carnivore', 'x']]\n"
          ]
        }
      ],
      "source": [
        "global facts\n",
        "global is_changed\n",
        "\n",
        "is_changed = True\n",
        "\n",
        "facts = [[\"gives milk\", \"x\"], [\"eats meat\", \"x\"], [\"tawny color\", \"x\"]]\n",
        "\n",
        "def assert_fact(fact):\n",
        "    global facts\n",
        "    global is_changed\n",
        "\n",
        "    if fact not in facts:\n",
        "        facts.append(fact)\n",
        "        is_changed = True\n",
        "\n",
        "while is_changed:\n",
        "    is_changed = False\n",
        "    for xf in facts:\n",
        "        if xf[0] == \"has hair\":\n",
        "            assert_fact([\"is mammal\", xf[1]])\n",
        "        if xf[0] == \"gives milk\":\n",
        "            assert_fact([\"is mammal\", xf[1]])\n",
        "        if xf[0] == \"has feathers\":\n",
        "            assert_fact([\"is bird\", xf[1]])\n",
        "        if xf[0] == \"flies\" and [\"lays eggs\", xf[1]] in facts:\n",
        "            assert_fact([\"is bird\", xf[1]])\n",
        "        if xf[0] == \"is mammal\" and [\"eats meat\", xf[1]] in facts:\n",
        "            assert_fact([\"is carnivore\", xf[1]])\n",
        "        if xf[0] == \"is mammal\" and [\"has pointed teeth\", xf[1]] in facts and [\"has claws\", xf[1]] in facts and [\"has forward pointing eyes\", xf[1]] in facts:\n",
        "            assert_fact([\"is carnivore\", xf[1]])\n",
        "        if xf[0] == \"is mammal\" and [\"has hoofs\", xf[1]] in facts:\n",
        "            assert_fact([\"is ungulate\", xf[1]])\n",
        "            assert_fact([\"is even-toed\", xf[1]])\n",
        "        if xf[0] == \"is carnivore\" and [\"tawny color\", xf[1]] in facts and [\"has dark spots\", xf[1]] in facts:\n",
        "            assert_fact([\"is cheetah\", xf[1]])\n",
        "        if xf[0] == \"is carnivore\" and [\"tawny color\", xf[1]] in facts and [\"has black stripes\", xf[1]] in facts:\n",
        "            assert_fact([\"is tiger\", xf[1]])\n",
        "        # Rule 11\n",
        "        if xf[0] == \"is ungulate\" and [\"has long legs\", xf[1]] in facts and [\"has long neck\", xf[1]] in facts and [\"has tawny color\", xf[1]] in facts and [\"has dark spots\", xf[1]] in facts:\n",
        "            assert_fact([\"is giraffe\", xf[1]])\n",
        "        # Rule 12\n",
        "        if xf[0] == \"is ungulate\" and [\"has white color\", xf[1]] in facts and [\"has black stripes\", xf[1]] in facts:\n",
        "            assert_fact([\"is zebra\", xf[1]])\n",
        "        # Rule 13\n",
        "        if xf[0] == \"is bird\" and [\"does not fly\", xf[1]] in facts and [\"has long legs\", xf[1]] in facts and [\"has long neck\", xf[1]] in facts and [\"is black and white\", xf[1]] in facts:\n",
        "            assert_fact([\"is ostrich\", xf[1]])\n",
        "        # Rule 14\n",
        "        if xf[0] == \"is bird\" and [\"does not fly\", xf[1]] in facts and [\"swims\", xf[1]] in facts and [\"is black and white\", xf[1]] in facts:\n",
        "            assert_fact([\"is penguin\", xf[1]])\n",
        "        # Rule 15\n",
        "        if xf[0] == \"is bird\" and [\"is good flyer\", xf[1]] in facts and [\"is large\", xf[1]] in facts and [\"is albatross\", xf[1]] in facts:\n",
        "            assert_fact([\"is albatross\", xf[1]])\n",
        "\n",
        "print(facts)\n"
      ]
    },
    {
      "cell_type": "code",
      "execution_count": null,
      "id": "205023dd-4717-4c9b-9359-3598cca21b56",
      "metadata": {
        "colab": {
          "base_uri": "https://localhost:8080/"
        },
        "id": "205023dd-4717-4c9b-9359-3598cca21b56",
        "outputId": "68d8ee52-441a-484f-caf6-2f39a915b4a5"
      },
      "outputs": [
        {
          "output_type": "stream",
          "name": "stdout",
          "text": [
            "Masukkan fakta baru (atau ketik 'stop' untuk berhenti): manusia, nafsu\n",
            "Masukkan fakta baru (atau ketik 'stop' untuk berhenti): stop\n",
            "Fakta setelah input dari pengguna:  [['gives milk', 'x'], ['eats meat', 'x'], ['tawny color', 'x'], ['is mammal', 'x'], ['is carnivore', 'x'], ['1', 'user'], ['manusia, nafsu', 'user']]\n"
          ]
        }
      ],
      "source": [
        "def get_user_input():\n",
        "    while True:\n",
        "        user_input = input(\"Masukkan fakta baru (atau ketik 'stop' untuk berhenti): \")\n",
        "        if user_input.lower() == 'stop':\n",
        "            break\n",
        "        assert_fact([user_input, 'user'])\n",
        "\n",
        "# Memanggil fungsi input dari pengguna\n",
        "get_user_input()\n",
        "\n",
        "print(\"Fakta setelah input dari pengguna: \", facts)\n"
      ]
    },
    {
      "cell_type": "code",
      "execution_count": null,
      "id": "f1d594d8-4bec-446b-909d-2860ad9be521",
      "metadata": {
        "colab": {
          "base_uri": "https://localhost:8080/"
        },
        "id": "f1d594d8-4bec-446b-909d-2860ad9be521",
        "outputId": "0f17b51f-d765-430d-ced9-aee5e58e289d"
      },
      "outputs": [
        {
          "output_type": "stream",
          "name": "stdout",
          "text": [
            "Fakta setelah inferensi:  [['gives milk', 'x'], ['eats meat', 'x'], ['tawny color', 'x'], ['is mammal', 'x'], ['is carnivore', 'x'], ['1', 'user'], ['manusia, nafsu', 'user']]\n",
            "Identifikasi: x adalah is mammal\n",
            "Identifikasi: x adalah is carnivore\n"
          ]
        }
      ],
      "source": [
        "# Fakta setelah inferensi\n",
        "print(\"Fakta setelah inferensi: \", facts)\n",
        "\n",
        "# Validasi hasil inferensi\n",
        "for fact in facts:\n",
        "    if fact[0].startswith('is'):\n",
        "        print(f\"Identifikasi: {fact[1]} adalah {fact[0]}\")\n"
      ]
    },
    {
      "cell_type": "code",
      "execution_count": null,
      "id": "57dadafd-660d-485a-9e10-e5bb784521bb",
      "metadata": {
        "id": "57dadafd-660d-485a-9e10-e5bb784521bb"
      },
      "outputs": [],
      "source": []
    }
  ],
  "metadata": {
    "kernelspec": {
      "display_name": "Python 3 (ipykernel)",
      "language": "python",
      "name": "python3"
    },
    "language_info": {
      "codemirror_mode": {
        "name": "ipython",
        "version": 3
      },
      "file_extension": ".py",
      "mimetype": "text/x-python",
      "name": "python",
      "nbconvert_exporter": "python",
      "pygments_lexer": "ipython3",
      "version": "3.11.5"
    },
    "colab": {
      "provenance": [],
      "include_colab_link": true
    }
  },
  "nbformat": 4,
  "nbformat_minor": 5
}