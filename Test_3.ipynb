{
  "nbformat": 4,
  "nbformat_minor": 0,
  "metadata": {
    "colab": {
      "provenance": [],
      "authorship_tag": "ABX9TyMTWb9cLJgRSx+Dha+u5KWt",
      "include_colab_link": true
    },
    "kernelspec": {
      "name": "python3",
      "display_name": "Python 3"
    },
    "language_info": {
      "name": "python"
    }
  },
  "cells": [
    {
      "cell_type": "markdown",
      "metadata": {
        "id": "view-in-github",
        "colab_type": "text"
      },
      "source": [
        "<a href=\"https://colab.research.google.com/github/zidankhainur2/machine-learning-practice/blob/main/Test_3.ipynb\" target=\"_parent\"><img src=\"https://colab.research.google.com/assets/colab-badge.svg\" alt=\"Open In Colab\"/></a>"
      ]
    },
    {
      "cell_type": "code",
      "execution_count": null,
      "metadata": {
        "colab": {
          "base_uri": "https://localhost:8080/"
        },
        "id": "cEM5yTYgg2xy",
        "outputId": "84cbc5b2-95f1-4f8b-8d39-626cc6e945e4"
      },
      "outputs": [
        {
          "output_type": "stream",
          "name": "stdout",
          "text": [
            "Requirement already satisfied: scikit-image in /usr/local/lib/python3.11/dist-packages (0.25.1)\n",
            "Requirement already satisfied: numpy>=1.24 in /usr/local/lib/python3.11/dist-packages (from scikit-image) (1.26.4)\n",
            "Requirement already satisfied: scipy>=1.11.2 in /usr/local/lib/python3.11/dist-packages (from scikit-image) (1.13.1)\n",
            "Requirement already satisfied: networkx>=3.0 in /usr/local/lib/python3.11/dist-packages (from scikit-image) (3.4.2)\n",
            "Requirement already satisfied: pillow>=10.1 in /usr/local/lib/python3.11/dist-packages (from scikit-image) (11.1.0)\n",
            "Requirement already satisfied: imageio!=2.35.0,>=2.33 in /usr/local/lib/python3.11/dist-packages (from scikit-image) (2.37.0)\n",
            "Requirement already satisfied: tifffile>=2022.8.12 in /usr/local/lib/python3.11/dist-packages (from scikit-image) (2025.1.10)\n",
            "Requirement already satisfied: packaging>=21 in /usr/local/lib/python3.11/dist-packages (from scikit-image) (24.2)\n",
            "Requirement already satisfied: lazy-loader>=0.4 in /usr/local/lib/python3.11/dist-packages (from scikit-image) (0.4)\n"
          ]
        }
      ],
      "source": [
        "pip install scikit-image"
      ]
    },
    {
      "cell_type": "code",
      "source": [
        "from skimage import io, img_as_float, img_as_ubyte\n",
        "import numpy as np\n",
        "import matplotlib.pyplot as plt\n",
        "\n",
        "\n",
        "image = img_as_float(io.imread(\"/content/DSC03276.JPG\"))\n",
        "\n",
        "#image2 = io.imread(\"images/test_image.jpg\").astype(np.float)\n",
        "#avoid using astype as it violates assumptions about dtype range.\n",
        "#for example float should range from 0 to 1 (or -1 to 1) but if you use\n",
        "#astype to convert to float, the values do not lie between 0 and 1.\n",
        "#print(image.shape)\n",
        "#plt.imshow(img)\n",
        "\n",
        "print(image)\n",
        "\n",
        "#print(image2)\n",
        "#image8byte = img_as_ubyte(image)\n",
        "#print(image8byte)\n",
        "\n",
        "#End of Skimage"
      ],
      "metadata": {
        "colab": {
          "base_uri": "https://localhost:8080/"
        },
        "id": "EovRKxvMhD5M",
        "outputId": "eb584620-f230-4bbb-d4f4-43ebf070b6ed"
      },
      "execution_count": null,
      "outputs": [
        {
          "output_type": "stream",
          "name": "stdout",
          "text": [
            "[[[0.34901961 0.31372549 0.24705882]\n",
            "  [0.36078431 0.3254902  0.25882353]\n",
            "  [0.34901961 0.31372549 0.24705882]\n",
            "  ...\n",
            "  [0.75686275 0.82745098 0.92156863]\n",
            "  [0.74509804 0.81568627 0.90980392]\n",
            "  [0.74901961 0.81960784 0.91372549]]\n",
            "\n",
            " [[0.35686275 0.32156863 0.25490196]\n",
            "  [0.36078431 0.3254902  0.25882353]\n",
            "  [0.34117647 0.30588235 0.23921569]\n",
            "  ...\n",
            "  [0.75294118 0.82352941 0.91764706]\n",
            "  [0.74509804 0.81568627 0.90980392]\n",
            "  [0.75294118 0.82352941 0.91764706]]\n",
            "\n",
            " [[0.36470588 0.32941176 0.2627451 ]\n",
            "  [0.35294118 0.31764706 0.25098039]\n",
            "  [0.3254902  0.29019608 0.22352941]\n",
            "  ...\n",
            "  [0.75294118 0.82352941 0.91764706]\n",
            "  [0.74509804 0.81568627 0.90980392]\n",
            "  [0.76470588 0.83529412 0.92941176]]\n",
            "\n",
            " ...\n",
            "\n",
            " [[0.27843137 0.25490196 0.2       ]\n",
            "  [0.26666667 0.24313725 0.18823529]\n",
            "  [0.25882353 0.23529412 0.18039216]\n",
            "  ...\n",
            "  [0.74901961 0.73333333 0.68627451]\n",
            "  [0.74509804 0.72941176 0.68235294]\n",
            "  [0.75294118 0.7372549  0.69019608]]\n",
            "\n",
            " [[0.2745098  0.25098039 0.19607843]\n",
            "  [0.27058824 0.24705882 0.19215686]\n",
            "  [0.26666667 0.24313725 0.18823529]\n",
            "  ...\n",
            "  [0.75294118 0.7372549  0.69019608]\n",
            "  [0.75686275 0.74117647 0.69411765]\n",
            "  [0.76470588 0.74901961 0.70196078]]\n",
            "\n",
            " [[0.27058824 0.24705882 0.19215686]\n",
            "  [0.27843137 0.25490196 0.2       ]\n",
            "  [0.27843137 0.25490196 0.2       ]\n",
            "  ...\n",
            "  [0.75294118 0.7372549  0.69019608]\n",
            "  [0.75294118 0.74117647 0.68235294]\n",
            "  [0.75294118 0.74117647 0.68235294]]]\n"
          ]
        }
      ]
    }
  ]
}